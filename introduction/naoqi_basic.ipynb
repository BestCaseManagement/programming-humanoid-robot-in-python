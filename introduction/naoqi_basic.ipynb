{
 "cells": [
  {
   "cell_type": "markdown",
   "id": "05cb2b09",
   "metadata": {},
   "source": [
    "# NAOqi Basic"
   ]
  },
  {
   "cell_type": "code",
   "execution_count": 1,
   "id": "12352c8f",
   "metadata": {},
   "outputs": [],
   "source": [
    "from naoqi import ALProxy"
   ]
  },
  {
   "cell_type": "code",
   "execution_count": 2,
   "id": "74fdb547",
   "metadata": {},
   "outputs": [],
   "source": [
    "tts = ALProxy('ALTextToSpeech', 'nao6.local', 9559)"
   ]
  },
  {
   "cell_type": "code",
   "execution_count": 4,
   "id": "6bb6d4a6",
   "metadata": {},
   "outputs": [],
   "source": [
    "tts.say('Hi, I am here. Have you enjoy?')"
   ]
  },
  {
   "cell_type": "code",
   "execution_count": 5,
   "id": "59a21509",
   "metadata": {},
   "outputs": [],
   "source": [
    "motion = ALProxy('ALMotion', 'nao6.local', 9559)"
   ]
  },
  {
   "cell_type": "code",
   "execution_count": 6,
   "id": "1be4ac11",
   "metadata": {},
   "outputs": [],
   "source": [
    "motion.wakeUp()"
   ]
  },
  {
   "cell_type": "code",
   "execution_count": 7,
   "id": "472e7356",
   "metadata": {},
   "outputs": [],
   "source": [
    "motion.rest()"
   ]
  },
  {
   "cell_type": "code",
   "execution_count": null,
   "id": "b690e3bb",
   "metadata": {},
   "outputs": [],
   "source": []
  }
 ],
 "metadata": {
  "kernelspec": {
   "display_name": "Python 3 (ipykernel)",
   "language": "python",
   "name": "python3"
  },
  "language_info": {
   "codemirror_mode": {
    "name": "ipython",
    "version": 3
   },
   "file_extension": ".py",
   "mimetype": "text/x-python",
   "name": "python",
   "nbconvert_exporter": "python",
   "pygments_lexer": "ipython3",
   "version": "3.8.8"
  }
 },
 "nbformat": 4,
 "nbformat_minor": 1
}